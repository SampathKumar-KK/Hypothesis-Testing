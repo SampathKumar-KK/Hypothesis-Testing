{
 "cells": [
  {
   "cell_type": "code",
   "execution_count": 1,
   "id": "e4454c74",
   "metadata": {},
   "outputs": [],
   "source": [
    "import numpy as np\n",
    "import pandas as pd\n",
    "import scipy.stats as stats"
   ]
  },
  {
   "cell_type": "code",
   "execution_count": 2,
   "id": "5ea63457",
   "metadata": {},
   "outputs": [],
   "source": [
    "df= pd.read_csv('LabTAT.csv')\n"
   ]
  },
  {
   "cell_type": "code",
   "execution_count": 3,
   "id": "eae74770",
   "metadata": {},
   "outputs": [
    {
     "data": {
      "text/html": [
       "<div>\n",
       "<style scoped>\n",
       "    .dataframe tbody tr th:only-of-type {\n",
       "        vertical-align: middle;\n",
       "    }\n",
       "\n",
       "    .dataframe tbody tr th {\n",
       "        vertical-align: top;\n",
       "    }\n",
       "\n",
       "    .dataframe thead th {\n",
       "        text-align: right;\n",
       "    }\n",
       "</style>\n",
       "<table border=\"1\" class=\"dataframe\">\n",
       "  <thead>\n",
       "    <tr style=\"text-align: right;\">\n",
       "      <th></th>\n",
       "      <th>Laboratory 1</th>\n",
       "      <th>Laboratory 2</th>\n",
       "      <th>Laboratory 3</th>\n",
       "      <th>Laboratory 4</th>\n",
       "    </tr>\n",
       "  </thead>\n",
       "  <tbody>\n",
       "    <tr>\n",
       "      <th>30</th>\n",
       "      <td>181.36</td>\n",
       "      <td>168.01</td>\n",
       "      <td>193.04</td>\n",
       "      <td>184.64</td>\n",
       "    </tr>\n",
       "    <tr>\n",
       "      <th>38</th>\n",
       "      <td>184.42</td>\n",
       "      <td>187.57</td>\n",
       "      <td>181.87</td>\n",
       "      <td>176.67</td>\n",
       "    </tr>\n",
       "    <tr>\n",
       "      <th>116</th>\n",
       "      <td>176.08</td>\n",
       "      <td>183.98</td>\n",
       "      <td>215.25</td>\n",
       "      <td>177.64</td>\n",
       "    </tr>\n",
       "  </tbody>\n",
       "</table>\n",
       "</div>"
      ],
      "text/plain": [
       "     Laboratory 1  Laboratory 2  Laboratory 3  Laboratory 4\n",
       "30         181.36        168.01        193.04        184.64\n",
       "38         184.42        187.57        181.87        176.67\n",
       "116        176.08        183.98        215.25        177.64"
      ]
     },
     "execution_count": 3,
     "metadata": {},
     "output_type": "execute_result"
    }
   ],
   "source": [
    "df.sample(3)\n"
   ]
  },
  {
   "cell_type": "code",
   "execution_count": 4,
   "id": "b9e59c1c",
   "metadata": {},
   "outputs": [
    {
     "data": {
      "text/plain": [
       "(120, 4)"
      ]
     },
     "execution_count": 4,
     "metadata": {},
     "output_type": "execute_result"
    }
   ],
   "source": [
    "df.shape"
   ]
  },
  {
   "cell_type": "code",
   "execution_count": 5,
   "id": "89c2b556",
   "metadata": {},
   "outputs": [
    {
     "name": "stdout",
     "output_type": "stream",
     "text": [
      "<class 'pandas.core.frame.DataFrame'>\n",
      "RangeIndex: 120 entries, 0 to 119\n",
      "Data columns (total 4 columns):\n",
      " #   Column        Non-Null Count  Dtype  \n",
      "---  ------        --------------  -----  \n",
      " 0   Laboratory 1  120 non-null    float64\n",
      " 1   Laboratory 2  120 non-null    float64\n",
      " 2   Laboratory 3  120 non-null    float64\n",
      " 3   Laboratory 4  120 non-null    float64\n",
      "dtypes: float64(4)\n",
      "memory usage: 3.9 KB\n"
     ]
    }
   ],
   "source": [
    "df.info()"
   ]
  },
  {
   "cell_type": "code",
   "execution_count": 6,
   "id": "9a5ce35e",
   "metadata": {},
   "outputs": [],
   "source": [
    "#Splitting the columns for test\n",
    "\n",
    "lab_1 = df['Laboratory 1']\n",
    "lab_2 = df['Laboratory 2']\n",
    "lab_3 = df['Laboratory 3']\n",
    "lab_4 = df['Laboratory 4']"
   ]
  },
  {
   "cell_type": "code",
   "execution_count": 7,
   "id": "94a9aa20",
   "metadata": {},
   "outputs": [],
   "source": [
    "# test of normality (Shapiro Test)\n",
    "from scipy.stats import shapiro\n",
    "\n",
    "shapiro_lab_1 = shapiro(lab_1)\n",
    "shapiro_lab_2 = shapiro(lab_2)\n",
    "shapiro_lab_3 = shapiro(lab_3)\n",
    "shapiro_lab_4 = shapiro(lab_4)\n",
    "\n",
    "# all the colums satisfy the test and follow normality"
   ]
  },
  {
   "cell_type": "code",
   "execution_count": 8,
   "id": "c223874b",
   "metadata": {},
   "outputs": [],
   "source": [
    "# check for homoscedasticity( levene test)\n",
    "\n",
    "from scipy.stats import levene\n",
    "\n",
    "levene_test = levene(lab_1,lab_2,lab_3,lab_4)\n",
    "\n",
    "#LeveneResult(statistic=2.599642500418024, pvalue=0.05161343808309816),it just passes the pvalue, so we can consider it"
   ]
  },
  {
   "cell_type": "code",
   "execution_count": 9,
   "id": "16dad3cd",
   "metadata": {},
   "outputs": [],
   "source": [
    "# perform one-way anova\n",
    "\n",
    "pvalue = stats.f_oneway(lab_1,lab_2,lab_3,lab_4)\n",
    "#F_onewayResult(statistic=118.70421654401437, pvalue=2.1156708949992414e-57)\n"
   ]
  },
  {
   "cell_type": "code",
   "execution_count": 10,
   "id": "d5dca108",
   "metadata": {},
   "outputs": [
    {
     "name": "stdout",
     "output_type": "stream",
     "text": [
      "2.1156708949992414e-57\n",
      "P-value is  0.0\n"
     ]
    }
   ],
   "source": [
    "print(pvalue[1])\n",
    "p_val=pvalue[1]\n",
    "print(\"P-value is \",(p_val/2).round(4))"
   ]
  },
  {
   "cell_type": "code",
   "execution_count": 11,
   "id": "67c8204f",
   "metadata": {},
   "outputs": [
    {
     "name": "stdout",
     "output_type": "stream",
     "text": [
      "Reject null hypothesis, Accept Alternative hypothesis\n"
     ]
    }
   ],
   "source": [
    "if p_val<0.05:\n",
    "    print(\"Reject null hypothesis, Accept Alternative hypothesis\")\n",
    "else:\n",
    "    print(\"Accept null hypothesis, Reject Alternative hypothesis\")\n",
    "    \n",
    "    \n",
    "# There is a significant difference in the average TAT between the labs    \n"
   ]
  },
  {
   "cell_type": "code",
   "execution_count": null,
   "id": "8119d841",
   "metadata": {},
   "outputs": [],
   "source": []
  }
 ],
 "metadata": {
  "kernelspec": {
   "display_name": "Python 3 (ipykernel)",
   "language": "python",
   "name": "python3"
  },
  "language_info": {
   "codemirror_mode": {
    "name": "ipython",
    "version": 3
   },
   "file_extension": ".py",
   "mimetype": "text/x-python",
   "name": "python",
   "nbconvert_exporter": "python",
   "pygments_lexer": "ipython3",
   "version": "3.10.9"
  }
 },
 "nbformat": 4,
 "nbformat_minor": 5
}
