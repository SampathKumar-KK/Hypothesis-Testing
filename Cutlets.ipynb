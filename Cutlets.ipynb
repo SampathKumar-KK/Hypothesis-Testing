{
 "cells": [
  {
   "cell_type": "code",
   "execution_count": 1,
   "id": "c40a7138",
   "metadata": {},
   "outputs": [],
   "source": [
    "import numpy as np\n",
    "import pandas as pd"
   ]
  },
  {
   "cell_type": "code",
   "execution_count": 2,
   "id": "c156bf2c",
   "metadata": {},
   "outputs": [
    {
     "data": {
      "text/plain": [
       "(35, 2)"
      ]
     },
     "execution_count": 2,
     "metadata": {},
     "output_type": "execute_result"
    }
   ],
   "source": [
    "df = pd.read_csv(\"Cutlets.csv\")\n",
    "df.shape"
   ]
  },
  {
   "cell_type": "code",
   "execution_count": 3,
   "id": "f43d0ae1",
   "metadata": {},
   "outputs": [
    {
     "data": {
      "text/html": [
       "<div>\n",
       "<style scoped>\n",
       "    .dataframe tbody tr th:only-of-type {\n",
       "        vertical-align: middle;\n",
       "    }\n",
       "\n",
       "    .dataframe tbody tr th {\n",
       "        vertical-align: top;\n",
       "    }\n",
       "\n",
       "    .dataframe thead th {\n",
       "        text-align: right;\n",
       "    }\n",
       "</style>\n",
       "<table border=\"1\" class=\"dataframe\">\n",
       "  <thead>\n",
       "    <tr style=\"text-align: right;\">\n",
       "      <th></th>\n",
       "      <th>Unit A</th>\n",
       "      <th>Unit B</th>\n",
       "    </tr>\n",
       "  </thead>\n",
       "  <tbody>\n",
       "    <tr>\n",
       "      <th>0</th>\n",
       "      <td>6.8090</td>\n",
       "      <td>6.7703</td>\n",
       "    </tr>\n",
       "    <tr>\n",
       "      <th>1</th>\n",
       "      <td>6.4376</td>\n",
       "      <td>7.5093</td>\n",
       "    </tr>\n",
       "    <tr>\n",
       "      <th>2</th>\n",
       "      <td>6.9157</td>\n",
       "      <td>6.7300</td>\n",
       "    </tr>\n",
       "    <tr>\n",
       "      <th>3</th>\n",
       "      <td>7.3012</td>\n",
       "      <td>6.7878</td>\n",
       "    </tr>\n",
       "    <tr>\n",
       "      <th>4</th>\n",
       "      <td>7.4488</td>\n",
       "      <td>7.1522</td>\n",
       "    </tr>\n",
       "  </tbody>\n",
       "</table>\n",
       "</div>"
      ],
      "text/plain": [
       "   Unit A  Unit B\n",
       "0  6.8090  6.7703\n",
       "1  6.4376  7.5093\n",
       "2  6.9157  6.7300\n",
       "3  7.3012  6.7878\n",
       "4  7.4488  7.1522"
      ]
     },
     "execution_count": 3,
     "metadata": {},
     "output_type": "execute_result"
    }
   ],
   "source": [
    "df.head()\n"
   ]
  },
  {
   "cell_type": "code",
   "execution_count": 5,
   "id": "dbba6cb3",
   "metadata": {},
   "outputs": [
    {
     "name": "stdout",
     "output_type": "stream",
     "text": [
      "7.0190914285714285\n"
     ]
    },
    {
     "data": {
      "text/plain": [
       "6.964297142857142"
      ]
     },
     "execution_count": 5,
     "metadata": {},
     "output_type": "execute_result"
    }
   ],
   "source": [
    "print(df[\"Unit A\"].mean())\n",
    "df[\"Unit B\"].mean()"
   ]
  },
  {
   "cell_type": "code",
   "execution_count": 6,
   "id": "114b3868",
   "metadata": {},
   "outputs": [],
   "source": [
    "# check for normality using Shapiro Wilk Test\n",
    "\n",
    "from scipy.stats import shapiro\n",
    "\n",
    "shapiro_unit_a = shapiro(df[\"Unit A\"])\n",
    "#ShapiroResult(statistic=0.9649459719657898, pvalue=0.31998491287231445)\n",
    "shapiro_unit_b = shapiro(df[\"Unit B\"])\n",
    "#ShapiroResult(statistic=0.9727305769920349, pvalue=0.5225146412849426)\n",
    "\n",
    "#Since the pvalue is greater than 0.05 we can imply that sample follows normality"
   ]
  },
  {
   "cell_type": "code",
   "execution_count": 7,
   "id": "1f79afdd",
   "metadata": {},
   "outputs": [],
   "source": [
    "# check for homoscedasticity( levene test)\n",
    "\n",
    "from scipy.stats import levene\n",
    "\n",
    "levene_test = levene(df[\"Unit A\"],df[\"Unit B\"])\n",
    "\n",
    "#LeveneResult(statistic=0.6650897638632386, pvalue=0.4176162212502553)\n",
    "\n",
    "#Since the pvalue is greater than 0.05 we can imply that sample follows homoscedasticity"
   ]
  },
  {
   "cell_type": "code",
   "execution_count": 8,
   "id": "156e0b25",
   "metadata": {},
   "outputs": [],
   "source": [
    "# performing 2 sample t-test\n",
    "\n",
    "from scipy import stats\n",
    "\n",
    "t_stat, p_val  = stats.ttest_ind( df[\"Unit A\"] , df[\"Unit B\"] ) \n"
   ]
  },
  {
   "cell_type": "code",
   "execution_count": 9,
   "id": "1ebdd0e9",
   "metadata": {},
   "outputs": [
    {
     "name": "stdout",
     "output_type": "stream",
     "text": [
      "P-value is  0.2361\n"
     ]
    }
   ],
   "source": [
    "print(\"P-value is \",(p_val/2).round(4))"
   ]
  },
  {
   "cell_type": "code",
   "execution_count": 10,
   "id": "84a9e087",
   "metadata": {},
   "outputs": [
    {
     "name": "stdout",
     "output_type": "stream",
     "text": [
      "Accept null hypothesis, Reject Alternative hypothesis\n"
     ]
    }
   ],
   "source": [
    "if p_val<0.05:\n",
    "    print(\"Reject null hypothesis, Accept Alternative hypothesis\")\n",
    "else:\n",
    "    print(\"Accept null hypothesis, Reject Alternative hypothesis\")\n"
   ]
  },
  {
   "cell_type": "code",
   "execution_count": null,
   "id": "1271965e",
   "metadata": {},
   "outputs": [],
   "source": []
  }
 ],
 "metadata": {
  "kernelspec": {
   "display_name": "Python 3 (ipykernel)",
   "language": "python",
   "name": "python3"
  },
  "language_info": {
   "codemirror_mode": {
    "name": "ipython",
    "version": 3
   },
   "file_extension": ".py",
   "mimetype": "text/x-python",
   "name": "python",
   "nbconvert_exporter": "python",
   "pygments_lexer": "ipython3",
   "version": "3.10.9"
  }
 },
 "nbformat": 4,
 "nbformat_minor": 5
}
